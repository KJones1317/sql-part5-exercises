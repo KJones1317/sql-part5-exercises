{
    "metadata": {
        "kernelspec": {
            "name": "SQL",
            "display_name": "SQL",
            "language": "sql"
        },
        "language_info": {
            "name": "sql",
            "version": ""
        }
    },
    "nbformat_minor": 2,
    "nbformat": 4,
    "cells": [
        {
            "cell_type": "markdown",
            "source": [
                "# Exercises: Creating, Updating, and Destroying Objects\n",
                "\n",
                "For the exercises, you will be working with objects and data you create. Before opening this notebook, make sure that you have set up the new connection to the server and that you have located the database and your schema.\n",
                "\n",
                "## Object Creation\n",
                "\n",
                "Before coding, think of three things you want to make. These could be coding projects, new recipes, or planned projects for a woodworking hobby. Brainstorm the appropriate column names and data types as well.\n",
                "\n",
                "Create a table under your schema called `planned_makes`."
            ],
            "metadata": {
                "azdata_cell_guid": "9d51c166-0c19-4f27-a422-2a6cf596bfb2"
            },
            "attachments": {}
        },
        {
            "cell_type": "code",
            "source": [
                "\r\n",
                "CREATE TABLE JunkDB_STL_Sept2022.karynj.planned_makes (\r\n",
                "     project_id INT PRIMARY KEY IDENTITY (1,1),\r\n",
                "     project VARCHAR (50) NOT NULL,\r\n",
                "     project_type VARCHAR (50) NOT NULL,\r\n",
                "     length INT NOT NULL,\r\n",
                "     color VARCHAR (50)\r\n",
                ")"
            ],
            "metadata": {
                "azdata_cell_guid": "d9238911-6f81-4f01-980d-b584307effaf",
                "language": "sql",
                "tags": []
            },
            "outputs": [
                {
                    "output_type": "display_data",
                    "data": {
                        "text/html": "Commands completed successfully."
                    },
                    "metadata": {}
                },
                {
                    "output_type": "display_data",
                    "data": {
                        "text/html": "Total execution time: 00:00:00.033"
                    },
                    "metadata": {}
                }
            ],
            "execution_count": 10
        },
        {
            "cell_type": "markdown",
            "source": [
                "Add three rows to your table that are your planned makes."
            ],
            "metadata": {
                "azdata_cell_guid": "83cdf34d-8c4f-4fa1-a14e-77384b19d734"
            }
        },
        {
            "cell_type": "code",
            "source": [
                "INSERT INTO JunkDB_STL_Sept2022.karynj.planned_makes ([project], [project_type], [length], [color])\r\n",
                "VALUES ('Temperature Blanket', 'Blanket', 400, 'Multi'),\r\n",
                "('Baby Blanket', 'Blanket', 350, 'Blue'),\r\n",
                "('Infinity Scarf', 'Scarf', 200, 'Yellow'); \r\n",
                "\r\n",
                "SELECT * \r\n",
                "FROM JunkDB_STL_Sept2022.karynj.planned_makes"
            ],
            "metadata": {
                "azdata_cell_guid": "e7cff9cb-87ba-4c7b-98f2-eaf445e8719c",
                "language": "sql",
                "tags": []
            },
            "outputs": [
                {
                    "output_type": "display_data",
                    "data": {
                        "text/html": "(3 rows affected)"
                    },
                    "metadata": {}
                },
                {
                    "output_type": "display_data",
                    "data": {
                        "text/html": "(3 rows affected)"
                    },
                    "metadata": {}
                },
                {
                    "output_type": "display_data",
                    "data": {
                        "text/html": "Total execution time: 00:00:00.040"
                    },
                    "metadata": {}
                },
                {
                    "output_type": "execute_result",
                    "metadata": {},
                    "execution_count": 11,
                    "data": {
                        "application/vnd.dataresource+json": {
                            "schema": {
                                "fields": [
                                    {
                                        "name": "project_id"
                                    },
                                    {
                                        "name": "project"
                                    },
                                    {
                                        "name": "project_type"
                                    },
                                    {
                                        "name": "length"
                                    },
                                    {
                                        "name": "color"
                                    }
                                ]
                            },
                            "data": [
                                {
                                    "0": "1",
                                    "1": "Temperature Blanket",
                                    "2": "Blanket",
                                    "3": "400",
                                    "4": "Multi"
                                },
                                {
                                    "0": "2",
                                    "1": "Baby Blanket",
                                    "2": "Blanket",
                                    "3": "350",
                                    "4": "Blue"
                                },
                                {
                                    "0": "3",
                                    "1": "Infinity Scarf",
                                    "2": "Scarf",
                                    "3": "200",
                                    "4": "Yellow"
                                }
                            ]
                        },
                        "text/html": [
                            "<table>",
                            "<tr><th>project_id</th><th>project</th><th>project_type</th><th>length</th><th>color</th></tr>",
                            "<tr><td>1</td><td>Temperature Blanket</td><td>Blanket</td><td>400</td><td>Multi</td></tr>",
                            "<tr><td>2</td><td>Baby Blanket</td><td>Blanket</td><td>350</td><td>Blue</td></tr>",
                            "<tr><td>3</td><td>Infinity Scarf</td><td>Scarf</td><td>200</td><td>Yellow</td></tr>",
                            "</table>"
                        ]
                    }
                }
            ],
            "execution_count": 11
        },
        {
            "cell_type": "markdown",
            "source": [
                "## Update a Row\n",
                "\n",
                "Change different values in one of your three rows."
            ],
            "metadata": {
                "azdata_cell_guid": "4a39b8d4-ae97-4e09-8336-c5fc6a00d76c"
            },
            "attachments": {}
        },
        {
            "cell_type": "code",
            "source": [
                "UPDATE karynj.planned_makes\r\n",
                "SET length = 150\r\n",
                "WHERE project_id = 3\r\n",
                "\r\n",
                "SELECT * \r\n",
                "FROM JunkDB_STL_Sept2022.karynj.planned_makes"
            ],
            "metadata": {
                "azdata_cell_guid": "7409c695-9581-4ad8-b03a-574d2c4c87cb",
                "language": "sql"
            },
            "outputs": [
                {
                    "output_type": "display_data",
                    "data": {
                        "text/html": "(1 row affected)"
                    },
                    "metadata": {}
                },
                {
                    "output_type": "display_data",
                    "data": {
                        "text/html": "(3 rows affected)"
                    },
                    "metadata": {}
                },
                {
                    "output_type": "display_data",
                    "data": {
                        "text/html": "Total execution time: 00:00:00.039"
                    },
                    "metadata": {}
                },
                {
                    "output_type": "execute_result",
                    "metadata": {},
                    "execution_count": 12,
                    "data": {
                        "application/vnd.dataresource+json": {
                            "schema": {
                                "fields": [
                                    {
                                        "name": "project_id"
                                    },
                                    {
                                        "name": "project"
                                    },
                                    {
                                        "name": "project_type"
                                    },
                                    {
                                        "name": "length"
                                    },
                                    {
                                        "name": "color"
                                    }
                                ]
                            },
                            "data": [
                                {
                                    "0": "1",
                                    "1": "Temperature Blanket",
                                    "2": "Blanket",
                                    "3": "400",
                                    "4": "Multi"
                                },
                                {
                                    "0": "2",
                                    "1": "Baby Blanket",
                                    "2": "Blanket",
                                    "3": "350",
                                    "4": "Blue"
                                },
                                {
                                    "0": "3",
                                    "1": "Infinity Scarf",
                                    "2": "Scarf",
                                    "3": "150",
                                    "4": "Yellow"
                                }
                            ]
                        },
                        "text/html": [
                            "<table>",
                            "<tr><th>project_id</th><th>project</th><th>project_type</th><th>length</th><th>color</th></tr>",
                            "<tr><td>1</td><td>Temperature Blanket</td><td>Blanket</td><td>400</td><td>Multi</td></tr>",
                            "<tr><td>2</td><td>Baby Blanket</td><td>Blanket</td><td>350</td><td>Blue</td></tr>",
                            "<tr><td>3</td><td>Infinity Scarf</td><td>Scarf</td><td>150</td><td>Yellow</td></tr>",
                            "</table>"
                        ]
                    }
                }
            ],
            "execution_count": 12
        },
        {
            "cell_type": "markdown",
            "source": [
                "## Delete a Row\n",
                "\n",
                "Delete one of the rows from your table."
            ],
            "metadata": {
                "azdata_cell_guid": "95e91a6e-9038-42d9-9401-5738842aba17"
            }
        },
        {
            "cell_type": "code",
            "source": [
                "DELETE FROM karynj.planned_makes\r\n",
                "WHERE project_id = 2\r\n",
                "\r\n",
                "SELECT * \r\n",
                "FROM JunkDB_STL_Sept2022.karynj.planned_makes"
            ],
            "metadata": {
                "azdata_cell_guid": "749c748f-19b5-4c69-9004-b6b20216616a",
                "language": "sql"
            },
            "outputs": [
                {
                    "output_type": "display_data",
                    "data": {
                        "text/html": "(1 row affected)"
                    },
                    "metadata": {}
                },
                {
                    "output_type": "display_data",
                    "data": {
                        "text/html": "(2 rows affected)"
                    },
                    "metadata": {}
                },
                {
                    "output_type": "display_data",
                    "data": {
                        "text/html": "Total execution time: 00:00:00.054"
                    },
                    "metadata": {}
                },
                {
                    "output_type": "execute_result",
                    "metadata": {},
                    "execution_count": 13,
                    "data": {
                        "application/vnd.dataresource+json": {
                            "schema": {
                                "fields": [
                                    {
                                        "name": "project_id"
                                    },
                                    {
                                        "name": "project"
                                    },
                                    {
                                        "name": "project_type"
                                    },
                                    {
                                        "name": "length"
                                    },
                                    {
                                        "name": "color"
                                    }
                                ]
                            },
                            "data": [
                                {
                                    "0": "1",
                                    "1": "Temperature Blanket",
                                    "2": "Blanket",
                                    "3": "400",
                                    "4": "Multi"
                                },
                                {
                                    "0": "3",
                                    "1": "Infinity Scarf",
                                    "2": "Scarf",
                                    "3": "150",
                                    "4": "Yellow"
                                }
                            ]
                        },
                        "text/html": [
                            "<table>",
                            "<tr><th>project_id</th><th>project</th><th>project_type</th><th>length</th><th>color</th></tr>",
                            "<tr><td>1</td><td>Temperature Blanket</td><td>Blanket</td><td>400</td><td>Multi</td></tr>",
                            "<tr><td>3</td><td>Infinity Scarf</td><td>Scarf</td><td>150</td><td>Yellow</td></tr>",
                            "</table>"
                        ]
                    }
                }
            ],
            "execution_count": 13
        },
        {
            "cell_type": "markdown",
            "source": [
                "## Drop the Table\n",
                "\n",
                "While this has been fun, it is time to drop the table!"
            ],
            "metadata": {
                "azdata_cell_guid": "2239cb09-137b-4579-905b-1aa020793181"
            },
            "attachments": {}
        },
        {
            "cell_type": "code",
            "source": [
                "DROP TABLE JunkDB_STL_Sept2022.karynj.planned_makes;\r\n",
                ""
            ],
            "metadata": {
                "azdata_cell_guid": "b3c7f6ea-ee26-46b3-9c2a-2f7a82c39699",
                "language": "sql"
            },
            "outputs": [
                {
                    "output_type": "display_data",
                    "data": {
                        "text/html": "Commands completed successfully."
                    },
                    "metadata": {}
                },
                {
                    "output_type": "display_data",
                    "data": {
                        "text/html": "Total execution time: 00:00:00.031"
                    },
                    "metadata": {}
                }
            ],
            "execution_count": 14
        },
        {
            "cell_type": "code",
            "source": [
                ""
            ],
            "metadata": {
                "azdata_cell_guid": "d9478af9-42ed-42ab-a81d-cd29df099136",
                "language": "sql"
            },
            "outputs": [],
            "execution_count": null
        }
    ]
}